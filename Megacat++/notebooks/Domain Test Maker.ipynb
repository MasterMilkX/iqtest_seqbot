{
 "cells": [
  {
   "cell_type": "code",
   "execution_count": 1,
   "metadata": {},
   "outputs": [],
   "source": [
    "# Imports\n",
    "import numpy as np\n",
    "import pandas as pd\n",
    "import re\n",
    "import csv\n",
    "import random\n",
    "import math"
   ]
  },
  {
   "cell_type": "code",
   "execution_count": 2,
   "metadata": {},
   "outputs": [
    {
     "ename": "NameError",
     "evalue": "name 'toQuestion' is not defined",
     "output_type": "error",
     "traceback": [
      "\u001b[0;31m---------------------------------------------------------------------------\u001b[0m",
      "\u001b[0;31mNameError\u001b[0m                                 Traceback (most recent call last)",
      "\u001b[0;32m<ipython-input-2-899b19b32934>\u001b[0m in \u001b[0;36m<module>\u001b[0;34m\u001b[0m\n\u001b[1;32m     44\u001b[0m \u001b[0;31m#test making questions from fibonacci\u001b[0m\u001b[0;34m\u001b[0m\u001b[0;34m\u001b[0m\u001b[0;34m\u001b[0m\u001b[0m\n\u001b[1;32m     45\u001b[0m \u001b[0;32mfor\u001b[0m \u001b[0mi\u001b[0m \u001b[0;32min\u001b[0m \u001b[0mrange\u001b[0m\u001b[0;34m(\u001b[0m\u001b[0;36m10\u001b[0m\u001b[0;34m)\u001b[0m\u001b[0;34m:\u001b[0m\u001b[0;34m\u001b[0m\u001b[0;34m\u001b[0m\u001b[0m\n\u001b[0;32m---> 46\u001b[0;31m     \u001b[0mprint\u001b[0m\u001b[0;34m(\u001b[0m\u001b[0mtoQuestion\u001b[0m\u001b[0;34m(\u001b[0m\u001b[0;34m[\u001b[0m\u001b[0;36m1\u001b[0m\u001b[0;34m,\u001b[0m\u001b[0;36m1\u001b[0m\u001b[0;34m,\u001b[0m\u001b[0;36m2\u001b[0m\u001b[0;34m,\u001b[0m\u001b[0;36m3\u001b[0m\u001b[0;34m,\u001b[0m\u001b[0;36m5\u001b[0m\u001b[0;34m,\u001b[0m\u001b[0;36m8\u001b[0m\u001b[0;34m,\u001b[0m\u001b[0;36m13\u001b[0m\u001b[0;34m,\u001b[0m\u001b[0;36m21\u001b[0m\u001b[0;34m,\u001b[0m\u001b[0;36m34\u001b[0m\u001b[0;34m]\u001b[0m\u001b[0;34m,\u001b[0m\u001b[0;36m5\u001b[0m\u001b[0;34m,\u001b[0m\u001b[0;36m4\u001b[0m\u001b[0;34m,\u001b[0m\u001b[0;36m0.75\u001b[0m\u001b[0;34m)\u001b[0m\u001b[0;34m)\u001b[0m\u001b[0;34m\u001b[0m\u001b[0;34m\u001b[0m\u001b[0m\n\u001b[0m",
      "\u001b[0;31mNameError\u001b[0m: name 'toQuestion' is not defined"
     ]
    }
   ],
   "source": [
    "#turns a sequence into a question format\n",
    "# seq - whole dataset interger sequence\n",
    "# l   - length of the question sequence\n",
    "# c   - number of answer choices available\n",
    "# p   - probability of missing element being last in the sequence\n",
    "def toMCQuestion(seq,l,c,p):\n",
    "    i = {}\n",
    "    l = min(len(seq), l)\n",
    "    \n",
    "    #question\n",
    "    a = random.randint(0,len(seq)-l)\n",
    "    b = a+l-1\n",
    "    s = seq[a:b]\n",
    "    sd = math.ceil(np.std(s))\n",
    "    if random.random() < p:\n",
    "        m = len(s)-1              #use last element as missing\n",
    "    else:\n",
    "        m = random.randint(0,len(s)-1)   #random missing element\n",
    "    \n",
    "    #add sequence\n",
    "    ans = s[m]\n",
    "    s[m] = \"?\"    #set as missing\n",
    "    i[\"sequence\"] = s\n",
    "    #i[\"sequence\"] = \",\".join([str(j) for j in s])\n",
    "    \n",
    "    #make randomly generated choices\n",
    "    cs = []\n",
    "    cs.append(ans)   #add right answer\n",
    "    \n",
    "    while len(cs) < c:       #add fake answers\n",
    "        e = math.floor(ans+sd*random.uniform(-2,3))    #vary the answer choices using std and uniform randomness\n",
    "        if e not in cs:\n",
    "            cs.append(e)\n",
    "    \n",
    "    random.shuffle(cs)       #shuffle order\n",
    "    i[\"options\"] = cs\n",
    "    \n",
    "    #set answer to the missing element and add\n",
    "    i[\"answer\"] = np.where(np.array(cs)==ans)[0][0]\n",
    "    \n",
    "    return i\n",
    "\n",
    "\n",
    "#test making questions from fibonacci\n",
    "for i in range(10):\n",
    "    print(toQuestion([1,1,2,3,5,8,13,21,34],5,4,0.75))"
   ]
  },
  {
   "cell_type": "code",
   "execution_count": 6,
   "metadata": {},
   "outputs": [],
   "source": [
    "'''\n",
    "  Assume the dataset is in vectorized 2d numeric array format where the whole set is given per row/sample\n",
    "  Dataset is in the form .csv\n",
    "  \n",
    "  ex. \n",
    "      [ 9, 67, 14, 14, 65,  0, 23, 57, 49, 11, 22, 77, 43, 21, 60, 74, 56  .....] (length = 43)\n",
    "      \n",
    "'''\n",
    "\n",
    "# read in dataset from a csv as a 2d array\n",
    "def importData(filename):\n",
    "    return list(csv.reader(open(filename)))\n",
    "\n",
    "\n",
    "# create multiple choice questions from all of the samples in the dataset\n",
    "# INPUTS:\n",
    "# minQuest = minimum number of questions to use (-1 = all samples, > len(dataset) = +random selection )\n",
    "# seqRange = length range of the starting sequence\n",
    "# ansRange = number range of the possible answers\n",
    "# lastProb = probability of the missing element being at the last element or somewhere else\n",
    "\n",
    "def multiChoice(dataset, minQuest = -1, seqRange=[3,17],ansRange=[3,6],lastProb=0.85):\n",
    "    qdat = []\n",
    "    seqstr = []                #keep track of stringified saved sequences\n",
    "    shufDat = dataset.copy()\n",
    "    random.shuffle(shufDat)\n",
    "    \n",
    "    #go over each item\n",
    "    i = 0\n",
    "    for d in shufDat:\n",
    "        #generate a question from the sample\n",
    "        l = random.randint(seqRange[0],seqRange[1])\n",
    "        c = random.randint(ansRange[0],ansRange[1])\n",
    "        q = toMCQuestion(d,l,c,lastProb)\n",
    "        \n",
    "        q[\"id\"] = i\n",
    "        i+= 1\n",
    "        \n",
    "        seqstr.append(str(q[\"sequence\"]))\n",
    "        \n",
    "        qdat.append(q)\n",
    "        \n",
    "        #enough questions, finish\n",
    "        if minQuest > 0 and len(qdat) > minQuest:\n",
    "            break\n",
    "          \n",
    "    #get random extra questions to fill quota\n",
    "    leftover = minQuest - len(shufDat)\n",
    "    if minQuest != -1 and leftover > 0:\n",
    "        for i in range(leftover):\n",
    "            \n",
    "            d = random.choice(shufDat)  #get random sequence from the data\n",
    "            \n",
    "            #generate a question from the sample\n",
    "            l = random.randint(seqRange)\n",
    "            c = random.randint(ansRange)\n",
    "            q = toMCQuestion(d,l,c,lastProb)\n",
    "\n",
    "            q[\"id\"] = i\n",
    "            i+= 1\n",
    "\n",
    "            #check if already in the dataset \n",
    "            if str(q[\"sequence\"]) not in seqstr:\n",
    "                qdat.append(q)\n",
    "            \n",
    "            #enough questions, finish\n",
    "            if len(questions) > minQuest:\n",
    "                break\n",
    "    \n",
    "    #return multiple choice set\n",
    "    return qdat"
   ]
  },
  {
   "cell_type": "code",
   "execution_count": 7,
   "metadata": {},
   "outputs": [
    {
     "name": "stdout",
     "output_type": "stream",
     "text": [
      "[[5, 18, 31, 44, 57, 70, 83, 96], [0, 20, 40, 60, 80, 100, 120], [2, 18, 34, 50, 66, 82, 98, 114, 130, 146], [1, 5, 9, 13, 17, 21, 25, 29, 33, 37, 41, 45], [4, 8, 12, 16, 20, 24, 28, 32], [0, 9, 18, 27, 36, 45, 54, 63, 72], [2, 18, 34, 50, 66, 82], [0, 4, 8, 12, 16, 20, 24, 28], [1, 21, 41, 61, 81, 101, 121], [5, 13, 21, 29, 37, 45, 53, 61, 69, 77, 85, 93], [4, 15, 26, 37, 48, 59, 70, 81, 92, 103, 114], [1, 14, 27, 40, 53, 66, 79, 92, 105, 118, 131, 144, 157], [5, 23, 41, 59, 77, 95, 113, 131, 149, 167, 185], [0, 2, 4, 6, 8], [4, 8, 12, 16, 20, 24, 28, 32, 36, 40], [2, 17, 32, 47, 62, 77, 92], [5, 23, 41, 59, 77, 95, 113, 131, 149, 167, 185, 203, 221], [0, 18, 36, 54, 72, 90, 108], [0, 20, 40, 60, 80, 100, 120, 140, 160, 180, 200], [5, 22, 39, 56, 73, 90, 107, 124, 141, 158], [3, 21, 39, 57, 75], [0, 5, 10, 15, 20, 25, 30, 35, 40, 45, 50], [1, 21, 41, 61, 81, 101, 121, 141, 161], [0, 12, 24, 36, 48, 60, 72, 84, 96], [5, 8, 11, 14, 17, 20], [4, 19, 34, 49, 64, 79], [4, 20, 36, 52, 68], [0, 8, 16, 24, 32, 40, 48, 56, 64, 72], [4, 18, 32, 46, 60, 74, 88, 102, 116, 130], [1, 6, 11, 16, 21]]\n"
     ]
    }
   ],
   "source": [
    "#test on arithmetic sequences\n",
    "# makes a sequence that starts at a random value and adds it by another value consistently \n",
    "# equation: [A_n = A_(n-1)+b; A_0, b = ?? ]\n",
    "def testArith(n,k):\n",
    "    d = []\n",
    "    for i in range(n):\n",
    "        kr = random.randint(5,k)\n",
    "        a = random.randint(0,5)\n",
    "        b = random.randint(1,20)\n",
    "        s = []\n",
    "        for j in range(kr):\n",
    "            s.append(a+j*b)      \n",
    "        d.append(s)\n",
    "    return d\n",
    "\n",
    "td = testArith(30,13)\n",
    "print(td)"
   ]
  },
  {
   "cell_type": "code",
   "execution_count": 9,
   "metadata": {},
   "outputs": [
    {
     "name": "stdout",
     "output_type": "stream",
     "text": [
      "[{'sequence': [0, 20, 40, 60, 80, '?'], 'options': [133, 163, 34, 98, 100, 101], 'answer': 4, 'id': 0}, {'sequence': [1, 14, 27, 40, 53, 66, 79, 92, 105, 118, 131, '?'], 'options': [240, 144, 259], 'answer': 1, 'id': 1}, {'sequence': [8, '?'], 'options': [15, 9, 10, 17, 8, 12], 'answer': 5, 'id': 2}, {'sequence': [61, '?'], 'options': [83, 81, 103], 'answer': 1, 'id': 3}, {'sequence': [5, 18, 31, 44, 57, 70, '?'], 'options': [83, 123, 102, 57, 112], 'answer': 0, 'id': 4}, {'sequence': [5, 23, 41, 59, 77, 95, 113, 131, '?', 167, 185, 203], 'options': [149, 82, 250, 164, 172, 323], 'answer': 0, 'id': 5}, {'sequence': [2, 18, 34, 50, 66, 82, 98, 114, '?'], 'options': [130, 244, 166], 'answer': 0, 'id': 6}, {'sequence': [4, 18, 32, 46, 60, 74, '?', 102, 116], 'options': [126, 88, 63], 'answer': 1, 'id': 7}, {'sequence': [5, 8, 11, 14, '?'], 'options': [17, 15, 21, 29, 13, 22], 'answer': 0, 'id': 8}, {'sequence': [0, 18, 36, 54, 72, '?'], 'options': [90, 174, 159, 55], 'answer': 0, 'id': 9}, {'sequence': [1, 5, 9, 13, 17, 21, 25, 29, 33, '?'], 'options': [39, 36, 56, 62, 37], 'answer': 4, 'id': 10}, {'sequence': [60, '?'], 'options': [79, 70, 87, 72, 66], 'answer': 3, 'id': 11}, {'sequence': [4, 8, 12, 16, 20, 24, '?'], 'options': [17, 46, 35, 25, 39, 28], 'answer': 5, 'id': 12}, {'sequence': [4, 20, 36, '?'], 'options': [95, 64, 52, 41], 'answer': 2, 'id': 13}, {'sequence': [4, 19, 34, 49, '?'], 'options': [64, 24, 109], 'answer': 0, 'id': 14}, {'sequence': [5, 22, 39, 56, 73, 90, 107, 124, '?'], 'options': [200, 173, 141], 'answer': 2, 'id': 15}, {'sequence': [24, 32, 40, 48, '?'], 'options': [36, 74, 50, 64, 56, 89], 'answer': 4, 'id': 16}, {'sequence': [6, 11, '?'], 'options': [9, 16, 13, 28, 29], 'answer': 1, 'id': 17}, {'sequence': [26, 37, 48, 59, 70, 81, 92, '?'], 'options': [77, 103, 179, 85, 178, 101], 'answer': 1, 'id': 18}, {'sequence': [1, 21, 41, 61, 81, '?'], 'options': [103, 101, 54, 55, 96], 'answer': 1, 'id': 19}, {'sequence': [2, 17, 32, 47, 62, '?'], 'options': [146, 77, 86, 93, 79], 'answer': 1, 'id': 20}, {'sequence': [18, 27, '?'], 'options': [48, 36, 54, 45, 59], 'answer': 1, 'id': 21}, {'sequence': [4, '?'], 'options': [4, 6, 5, 8, 7], 'answer': 1, 'id': 22}, {'sequence': [4, 8, 12, 16, '?', 24], 'options': [33, 39, 20, 28, 38, 26], 'answer': 2, 'id': 23}, {'sequence': [2, 18, 34, 50, '?'], 'options': [63, 88, 33, 66], 'answer': 3, 'id': 24}, {'sequence': [5, 13, 21, 29, 37, 45, 53, 61, 69, '?'], 'options': [134, 84, 74, 35, 77], 'answer': 4, 'id': 25}, {'sequence': [5, 23, 41, 59, 77, 95, 113, 131, 149, '?'], 'options': [167, 97, 103, 229], 'answer': 0, 'id': 26}, {'sequence': [5, 10, 15, 20, 25, 30, 35, '?'], 'options': [67, 60, 40, 31, 65, 19], 'answer': 2, 'id': 27}, {'sequence': [0, 20, 40, 60, 80, 100, 120, 140, 160, '?'], 'options': [180, 113, 253, 301], 'answer': 0, 'id': 28}, {'sequence': [3, 21, 39, '?'], 'options': [50, 57, 27], 'answer': 1, 'id': 29}]\n"
     ]
    }
   ],
   "source": [
    "mcq = multiChoice(td)\n",
    "print(mcq)"
   ]
  },
  {
   "cell_type": "code",
   "execution_count": 11,
   "metadata": {},
   "outputs": [
    {
     "data": {
      "text/plain": [
       "list"
      ]
     },
     "execution_count": 11,
     "metadata": {},
     "output_type": "execute_result"
    }
   ],
   "source": [
    "type(mcq[0]['options'])"
   ]
  },
  {
   "cell_type": "code",
   "execution_count": null,
   "metadata": {},
   "outputs": [],
   "source": []
  }
 ],
 "metadata": {
  "kernelspec": {
   "display_name": "Python 3",
   "language": "python",
   "name": "python3"
  },
  "language_info": {
   "codemirror_mode": {
    "name": "ipython",
    "version": 3
   },
   "file_extension": ".py",
   "mimetype": "text/x-python",
   "name": "python",
   "nbconvert_exporter": "python",
   "pygments_lexer": "ipython3",
   "version": "3.8.5"
  }
 },
 "nbformat": 4,
 "nbformat_minor": 4
}
