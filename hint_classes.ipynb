{
 "cells": [
  {
   "cell_type": "markdown",
   "metadata": {},
   "source": [
    "Identify the class for each item, using the hint"
   ]
  },
  {
   "cell_type": "code",
   "execution_count": 1,
   "metadata": {},
   "outputs": [],
   "source": [
    "import numpy as np\n",
    "import pandas as pd\n",
    "import re"
   ]
  },
  {
   "cell_type": "code",
   "execution_count": 2,
   "metadata": {},
   "outputs": [
    {
     "name": "stdout",
     "output_type": "stream",
     "text": [
      "                  stem               options            category    id\n",
      "0           7,9,-1,5,?        [4, 2, -1, -3]            sequence     0\n",
      "1        3,2,5/3,3/2,?  [1/4, 7/5, 3/4, 2/5]            sequence     1\n",
      "2           1,2,5,26,?    [34, 841, 677, 37]            sequence     2\n",
      "3            2,12,30,?      [50, 65, 75, 56]            sequence     3\n",
      "4        2,1,2/3,1/2,?  [3/4, 1/4, 2/5, 5/6]            sequence     4\n",
      "...                ...                   ...                 ...   ...\n",
      "1071  20 22 25 30 37 ?                    []  sequence-reasoning  1090\n",
      "1072        0 1 3 10 ?                    []  sequence-reasoning  1091\n",
      "1073       5 15 10 215                    []  sequence-reasoning  1092\n",
      "1074        1 2 5 29 ?    [34, 841, 866, 37]  sequence-reasoning  1093\n",
      "1075         2 12 30 ?      [50, 65, 75, 56]  sequence-reasoning  1094\n",
      "\n",
      "[1076 rows x 4 columns]\n"
     ]
    }
   ],
   "source": [
    "seqdataIn = pd.read_json('/Volumes/GoogleDrive/My Drive/NYU/PhD/20 DL/project/data/seq-public.json', orient='records')\n",
    "print(seqdataIn)"
   ]
  },
  {
   "cell_type": "code",
   "execution_count": 3,
   "metadata": {},
   "outputs": [
    {
     "name": "stdout",
     "output_type": "stream",
     "text": [
      "     answer                                               hint\n",
      "0       [4]      A<sub>n+1</sub>=2<sup>5-n</sup>-A<sub>n</sub>\n",
      "1       [2]  3/1, 4/2, 5/3, 6/4\\n\\nA<sub>n+1</sub>=A<sub>n<...\n",
      "2       [3]        A<sub>n+1</sub>=A<sub>n</sub><sup>2</sup>+1\n",
      "3       [4]                           A<sub>n</sub>=2n\\*(2n-1)\n",
      "4       [3]             4/2, 4/4, 4/6, 4/8\\n\\nA<sub>n</sub>=2n\n",
      "...     ...                                                ...\n",
      "1090     48                A<sub>n+1</sub>-A<sub>n</sub>=P(n);\n",
      "1091    102           A<sub>n\\*2</sub>=A<sub>n\\*2-1</sub>^2+2;\n",
      "1092   -115   A<sub>n</sub>=A<sub>n-2</sub>^2-A<sub>n-1</sub>;\n",
      "1093    [3]  A<sub>n</sub>=A<sub>n-1</sub>^2+A<sub>n-2</sub...\n",
      "1094    [4]                      A<sub>n</sub>=(2\\*n-1)\\*2\\*n;\n",
      "\n",
      "[1076 rows x 2 columns]\n"
     ]
    }
   ],
   "source": [
    "seqDataAns =pd.read_json('/Volumes/GoogleDrive/My Drive/NYU/PhD/20 DL/project/data/seq-public.answer.json',orient='index')\n",
    "print(seqDataAns)"
   ]
  },
  {
   "cell_type": "code",
   "execution_count": 4,
   "metadata": {},
   "outputs": [
    {
     "name": "stdout",
     "output_type": "stream",
     "text": [
      "0                                   A_{n+1}=2^{5-n}-A_{n}\n",
      "1       3/1, 4/2, 5/3, 6/4 |  | A_{n+1}=A_{n}+1 |  | B...\n",
      "2                                     A_{n+1}=A_{n}^{2}+1\n",
      "3                                         A_{n}=2n*(2n-1)\n",
      "4                        4/2, 4/4, 4/6, 4/8 |  | A_{n}=2n\n",
      "                              ...                        \n",
      "1090                                  A_{n+1}-A_{n}=P(n);\n",
      "1091                               A_{n*2}=A_{n*2-1}^2+2;\n",
      "1092                             A_{n}=A_{n-2}^2-A_{n-1};\n",
      "1093                           A_{n}=A_{n-1}^2+A_{n-2}^2;\n",
      "1094                                   A_{n}=(2*n-1)*2*n;\n",
      "Name: hint, Length: 1076, dtype: object\n"
     ]
    }
   ],
   "source": [
    "def hint2txt(h):\n",
    "    return h.replace('<sub>','_{').replace('</sub>','}').replace('<sup>','^{').replace('</sup>','}').replace('\\n',' | ').replace('\\*','*')\n",
    "seqDataAns['hint'] = seqDataAns['hint'].map(lambda x: hint2txt(x))\n",
    "print(seqDataAns['hint'])"
   ]
  },
  {
   "cell_type": "code",
   "execution_count": null,
   "metadata": {},
   "outputs": [],
   "source": []
  },
  {
   "cell_type": "code",
   "execution_count": 26,
   "metadata": {},
   "outputs": [],
   "source": [
    "seqDataAns['hint1'] = [item.split('=') for item in seqDataAns['hint']] #split the hint by '='"
   ]
  },
  {
   "cell_type": "code",
   "execution_count": 78,
   "metadata": {},
   "outputs": [],
   "source": [
    "seqDataAns['classes'] = 0"
   ]
  },
  {
   "cell_type": "code",
   "execution_count": 79,
   "metadata": {},
   "outputs": [
    {
     "data": {
      "text/html": [
       "<div>\n",
       "<style scoped>\n",
       "    .dataframe tbody tr th:only-of-type {\n",
       "        vertical-align: middle;\n",
       "    }\n",
       "\n",
       "    .dataframe tbody tr th {\n",
       "        vertical-align: top;\n",
       "    }\n",
       "\n",
       "    .dataframe thead th {\n",
       "        text-align: right;\n",
       "    }\n",
       "</style>\n",
       "<table border=\"1\" class=\"dataframe\">\n",
       "  <thead>\n",
       "    <tr style=\"text-align: right;\">\n",
       "      <th></th>\n",
       "      <th>answer</th>\n",
       "      <th>hint</th>\n",
       "      <th>hint1</th>\n",
       "      <th>classes</th>\n",
       "    </tr>\n",
       "  </thead>\n",
       "  <tbody>\n",
       "    <tr>\n",
       "      <th>0</th>\n",
       "      <td>[4]</td>\n",
       "      <td>A_{n+1}=2^{5-n}-A_{n}</td>\n",
       "      <td>[A_{n+1}, 2^{5-n}-A_{n}]</td>\n",
       "      <td>0</td>\n",
       "    </tr>\n",
       "    <tr>\n",
       "      <th>1</th>\n",
       "      <td>[2]</td>\n",
       "      <td>3/1, 4/2, 5/3, 6/4 |  | A_{n+1}=A_{n}+1 |  | B...</td>\n",
       "      <td>[3/1, 4/2, 5/3, 6/4 |  | A_{n+1}, A_{n}+1 |  |...</td>\n",
       "      <td>0</td>\n",
       "    </tr>\n",
       "    <tr>\n",
       "      <th>2</th>\n",
       "      <td>[3]</td>\n",
       "      <td>A_{n+1}=A_{n}^{2}+1</td>\n",
       "      <td>[A_{n+1}, A_{n}^{2}+1]</td>\n",
       "      <td>0</td>\n",
       "    </tr>\n",
       "    <tr>\n",
       "      <th>3</th>\n",
       "      <td>[4]</td>\n",
       "      <td>A_{n}=2n*(2n-1)</td>\n",
       "      <td>[A_{n}, 2n*(2n-1)]</td>\n",
       "      <td>0</td>\n",
       "    </tr>\n",
       "    <tr>\n",
       "      <th>4</th>\n",
       "      <td>[3]</td>\n",
       "      <td>4/2, 4/4, 4/6, 4/8 |  | A_{n}=2n</td>\n",
       "      <td>[4/2, 4/4, 4/6, 4/8 |  | A_{n}, 2n]</td>\n",
       "      <td>0</td>\n",
       "    </tr>\n",
       "    <tr>\n",
       "      <th>...</th>\n",
       "      <td>...</td>\n",
       "      <td>...</td>\n",
       "      <td>...</td>\n",
       "      <td>...</td>\n",
       "    </tr>\n",
       "    <tr>\n",
       "      <th>1090</th>\n",
       "      <td>48</td>\n",
       "      <td>A_{n+1}-A_{n}=P(n);</td>\n",
       "      <td>[A_{n+1}-A_{n}, P(n);]</td>\n",
       "      <td>0</td>\n",
       "    </tr>\n",
       "    <tr>\n",
       "      <th>1091</th>\n",
       "      <td>102</td>\n",
       "      <td>A_{n*2}=A_{n*2-1}^2+2;</td>\n",
       "      <td>[A_{n*2}, A_{n*2-1}^2+2;]</td>\n",
       "      <td>0</td>\n",
       "    </tr>\n",
       "    <tr>\n",
       "      <th>1092</th>\n",
       "      <td>-115</td>\n",
       "      <td>A_{n}=A_{n-2}^2-A_{n-1};</td>\n",
       "      <td>[A_{n}, A_{n-2}^2-A_{n-1};]</td>\n",
       "      <td>0</td>\n",
       "    </tr>\n",
       "    <tr>\n",
       "      <th>1093</th>\n",
       "      <td>[3]</td>\n",
       "      <td>A_{n}=A_{n-1}^2+A_{n-2}^2;</td>\n",
       "      <td>[A_{n}, A_{n-1}^2+A_{n-2}^2;]</td>\n",
       "      <td>0</td>\n",
       "    </tr>\n",
       "    <tr>\n",
       "      <th>1094</th>\n",
       "      <td>[4]</td>\n",
       "      <td>A_{n}=(2*n-1)*2*n;</td>\n",
       "      <td>[A_{n}, (2*n-1)*2*n;]</td>\n",
       "      <td>0</td>\n",
       "    </tr>\n",
       "  </tbody>\n",
       "</table>\n",
       "<p>1076 rows × 4 columns</p>\n",
       "</div>"
      ],
      "text/plain": [
       "     answer                                               hint  \\\n",
       "0       [4]                              A_{n+1}=2^{5-n}-A_{n}   \n",
       "1       [2]  3/1, 4/2, 5/3, 6/4 |  | A_{n+1}=A_{n}+1 |  | B...   \n",
       "2       [3]                                A_{n+1}=A_{n}^{2}+1   \n",
       "3       [4]                                    A_{n}=2n*(2n-1)   \n",
       "4       [3]                   4/2, 4/4, 4/6, 4/8 |  | A_{n}=2n   \n",
       "...     ...                                                ...   \n",
       "1090     48                                A_{n+1}-A_{n}=P(n);   \n",
       "1091    102                             A_{n*2}=A_{n*2-1}^2+2;   \n",
       "1092   -115                           A_{n}=A_{n-2}^2-A_{n-1};   \n",
       "1093    [3]                         A_{n}=A_{n-1}^2+A_{n-2}^2;   \n",
       "1094    [4]                                 A_{n}=(2*n-1)*2*n;   \n",
       "\n",
       "                                                  hint1  classes  \n",
       "0                              [A_{n+1}, 2^{5-n}-A_{n}]        0  \n",
       "1     [3/1, 4/2, 5/3, 6/4 |  | A_{n+1}, A_{n}+1 |  |...        0  \n",
       "2                                [A_{n+1}, A_{n}^{2}+1]        0  \n",
       "3                                    [A_{n}, 2n*(2n-1)]        0  \n",
       "4                   [4/2, 4/4, 4/6, 4/8 |  | A_{n}, 2n]        0  \n",
       "...                                                 ...      ...  \n",
       "1090                             [A_{n+1}-A_{n}, P(n);]        0  \n",
       "1091                          [A_{n*2}, A_{n*2-1}^2+2;]        0  \n",
       "1092                        [A_{n}, A_{n-2}^2-A_{n-1};]        0  \n",
       "1093                      [A_{n}, A_{n-1}^2+A_{n-2}^2;]        0  \n",
       "1094                              [A_{n}, (2*n-1)*2*n;]        0  \n",
       "\n",
       "[1076 rows x 4 columns]"
      ]
     },
     "execution_count": 79,
     "metadata": {},
     "output_type": "execute_result"
    }
   ],
   "source": [
    "seqDataAns"
   ]
  },
  {
   "cell_type": "code",
   "execution_count": 129,
   "metadata": {},
   "outputs": [
    {
     "name": "stderr",
     "output_type": "stream",
     "text": [
      "/Users/catalina/opt/anaconda3/lib/python3.7/site-packages/ipykernel_launcher.py:19: SettingWithCopyWarning: \n",
      "A value is trying to be set on a copy of a slice from a DataFrame\n",
      "\n",
      "See the caveats in the documentation: https://pandas.pydata.org/pandas-docs/stable/user_guide/indexing.html#returning-a-view-versus-a-copy\n",
      "/Users/catalina/opt/anaconda3/lib/python3.7/site-packages/ipykernel_launcher.py:16: SettingWithCopyWarning: \n",
      "A value is trying to be set on a copy of a slice from a DataFrame\n",
      "\n",
      "See the caveats in the documentation: https://pandas.pydata.org/pandas-docs/stable/user_guide/indexing.html#returning-a-view-versus-a-copy\n",
      "  app.launch_new_instance()\n"
     ]
    }
   ],
   "source": [
    "for i in range(len(seqDataAns)):\n",
    "    if i in [82,  257, 298, 306, 451, 452, 463, 464,468, 476,495, 498,499, 500,504,505,623,624,626,627,628]:\n",
    "        continue\n",
    "        \n",
    "    if seqDataAns['classes'][i] == 0:\n",
    "        y = False\n",
    "        z = False\n",
    "        if len(seqDataAns['hint1'][i])>1:\n",
    "            y = re.search('A_{', seqDataAns['hint1'][i][1])\n",
    "            z = re.search('(?<!_).*?n', seqDataAns['hint1'][i][1])\n",
    "\n",
    "        if (y) and not(z):\n",
    "            seqDataAns['classes'][i] = 1   #recursive A_{n}\n",
    "            \n",
    "        elif not(y) and (z):\n",
    "            seqDataAns['classes'][i] = 2   #just the position n\n",
    "        \n",
    "        elif not(y) and not(z):\n",
    "            seqDataAns['classes'][i] = 0   #none, or errors\n",
    "            \n",
    "        else:\n",
    "            seqDataAns['classes'][i] = 3   #both\n",
    "            \n",
    "        "
   ]
  },
  {
   "cell_type": "code",
   "execution_count": 130,
   "metadata": {
    "scrolled": true
   },
   "outputs": [
    {
     "data": {
      "text/html": [
       "<div>\n",
       "<style scoped>\n",
       "    .dataframe tbody tr th:only-of-type {\n",
       "        vertical-align: middle;\n",
       "    }\n",
       "\n",
       "    .dataframe tbody tr th {\n",
       "        vertical-align: top;\n",
       "    }\n",
       "\n",
       "    .dataframe thead th {\n",
       "        text-align: right;\n",
       "    }\n",
       "</style>\n",
       "<table border=\"1\" class=\"dataframe\">\n",
       "  <thead>\n",
       "    <tr style=\"text-align: right;\">\n",
       "      <th></th>\n",
       "      <th>answer</th>\n",
       "      <th>hint</th>\n",
       "      <th>hint1</th>\n",
       "      <th>classes</th>\n",
       "    </tr>\n",
       "  </thead>\n",
       "  <tbody>\n",
       "    <tr>\n",
       "      <th>86</th>\n",
       "      <td>Y, Z</td>\n",
       "      <td></td>\n",
       "      <td>[]</td>\n",
       "      <td>0</td>\n",
       "    </tr>\n",
       "    <tr>\n",
       "      <th>91</th>\n",
       "      <td>[3]</td>\n",
       "      <td></td>\n",
       "      <td>[]</td>\n",
       "      <td>0</td>\n",
       "    </tr>\n",
       "    <tr>\n",
       "      <th>97</th>\n",
       "      <td>[4]</td>\n",
       "      <td></td>\n",
       "      <td>[]</td>\n",
       "      <td>0</td>\n",
       "    </tr>\n",
       "    <tr>\n",
       "      <th>110</th>\n",
       "      <td>[2]</td>\n",
       "      <td></td>\n",
       "      <td>[]</td>\n",
       "      <td>0</td>\n",
       "    </tr>\n",
       "    <tr>\n",
       "      <th>118</th>\n",
       "      <td>[2]</td>\n",
       "      <td></td>\n",
       "      <td>[]</td>\n",
       "      <td>0</td>\n",
       "    </tr>\n",
       "    <tr>\n",
       "      <th>...</th>\n",
       "      <td>...</td>\n",
       "      <td>...</td>\n",
       "      <td>...</td>\n",
       "      <td>...</td>\n",
       "    </tr>\n",
       "    <tr>\n",
       "      <th>1090</th>\n",
       "      <td>48</td>\n",
       "      <td>A_{n+1}-A_{n}=P(n);</td>\n",
       "      <td>[A_{n+1}-A_{n}, P(n);]</td>\n",
       "      <td>0</td>\n",
       "    </tr>\n",
       "    <tr>\n",
       "      <th>1091</th>\n",
       "      <td>102</td>\n",
       "      <td>A_{n*2}=A_{n*2-1}^2+2;</td>\n",
       "      <td>[A_{n*2}, A_{n*2-1}^2+2;]</td>\n",
       "      <td>0</td>\n",
       "    </tr>\n",
       "    <tr>\n",
       "      <th>1092</th>\n",
       "      <td>-115</td>\n",
       "      <td>A_{n}=A_{n-2}^2-A_{n-1};</td>\n",
       "      <td>[A_{n}, A_{n-2}^2-A_{n-1};]</td>\n",
       "      <td>0</td>\n",
       "    </tr>\n",
       "    <tr>\n",
       "      <th>1093</th>\n",
       "      <td>[3]</td>\n",
       "      <td>A_{n}=A_{n-1}^2+A_{n-2}^2;</td>\n",
       "      <td>[A_{n}, A_{n-1}^2+A_{n-2}^2;]</td>\n",
       "      <td>0</td>\n",
       "    </tr>\n",
       "    <tr>\n",
       "      <th>1094</th>\n",
       "      <td>[4]</td>\n",
       "      <td>A_{n}=(2*n-1)*2*n;</td>\n",
       "      <td>[A_{n}, (2*n-1)*2*n;]</td>\n",
       "      <td>0</td>\n",
       "    </tr>\n",
       "  </tbody>\n",
       "</table>\n",
       "<p>175 rows × 4 columns</p>\n",
       "</div>"
      ],
      "text/plain": [
       "     answer                        hint                          hint1  \\\n",
       "86     Y, Z                                                         []   \n",
       "91      [3]                                                         []   \n",
       "97      [4]                                                         []   \n",
       "110     [2]                                                         []   \n",
       "118     [2]                                                         []   \n",
       "...     ...                         ...                            ...   \n",
       "1090     48         A_{n+1}-A_{n}=P(n);         [A_{n+1}-A_{n}, P(n);]   \n",
       "1091    102      A_{n*2}=A_{n*2-1}^2+2;      [A_{n*2}, A_{n*2-1}^2+2;]   \n",
       "1092   -115    A_{n}=A_{n-2}^2-A_{n-1};    [A_{n}, A_{n-2}^2-A_{n-1};]   \n",
       "1093    [3]  A_{n}=A_{n-1}^2+A_{n-2}^2;  [A_{n}, A_{n-1}^2+A_{n-2}^2;]   \n",
       "1094    [4]          A_{n}=(2*n-1)*2*n;          [A_{n}, (2*n-1)*2*n;]   \n",
       "\n",
       "      classes  \n",
       "86          0  \n",
       "91          0  \n",
       "97          0  \n",
       "110         0  \n",
       "118         0  \n",
       "...       ...  \n",
       "1090        0  \n",
       "1091        0  \n",
       "1092        0  \n",
       "1093        0  \n",
       "1094        0  \n",
       "\n",
       "[175 rows x 4 columns]"
      ]
     },
     "execution_count": 130,
     "metadata": {},
     "output_type": "execute_result"
    }
   ],
   "source": [
    "seqDataAns[seqDataAns['classes'] == 0]"
   ]
  },
  {
   "cell_type": "code",
   "execution_count": 138,
   "metadata": {},
   "outputs": [
    {
     "data": {
      "text/plain": [
       "1    455\n",
       "2    360\n",
       "0    175\n",
       "3     86\n",
       "Name: classes, dtype: int64"
      ]
     },
     "execution_count": 138,
     "metadata": {},
     "output_type": "execute_result"
    }
   ],
   "source": [
    "seqDataAns.classes.value_counts() "
   ]
  },
  {
   "cell_type": "code",
   "execution_count": null,
   "metadata": {},
   "outputs": [],
   "source": []
  },
  {
   "cell_type": "code",
   "execution_count": null,
   "metadata": {},
   "outputs": [],
   "source": []
  }
 ],
 "metadata": {
  "kernelspec": {
   "display_name": "Python 3",
   "language": "python",
   "name": "python3"
  },
  "language_info": {
   "codemirror_mode": {
    "name": "ipython",
    "version": 3
   },
   "file_extension": ".py",
   "mimetype": "text/x-python",
   "name": "python",
   "nbconvert_exporter": "python",
   "pygments_lexer": "ipython3",
   "version": "3.8.5"
  }
 },
 "nbformat": 4,
 "nbformat_minor": 4
}
